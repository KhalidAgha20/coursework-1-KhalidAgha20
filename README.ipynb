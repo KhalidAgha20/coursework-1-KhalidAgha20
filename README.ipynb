{
 "cells": [
  {
   "cell_type": "markdown",
   "source": [
    "# Coursework 1\n",
    "\n",
    "### Repository URL\n",
    "https://github.com/ucl-comp0035/coursework-1-KhalidAgha20.git\n",
    "\n",
    "### Set-up instructions\n",
    "\n",
    "In addition to the libraries provided in the requirements.txt file, this coursework employs another list of libraries.\n",
    "The list of additional libraries are as follows:\n",
    "\n",
    "1. jupyter\n",
    "\n",
    "All of these additional libraries are added to the requirements.txt file. Thus, no additional steps are required other\n",
    "than installing libraries through the requirements.txt file.\n",
    "\n",
    "## Project Methodology\n",
    "When designing a software, it is crucial to adhere to a certain methodology in order to get the best and most functional\n",
    "end result at the end of the project cycle. Methodologies help organize teams and finish tasks in a timely manner by\n",
    "providing them with a plan. (The Benefits of Adhering to a Software Development Methodology, 2021)\n",
    "\n",
    "Currently, there exists a number of methodologies with manifestos which describe the processes required to currently\n",
    "implement them into a software or data science project. The majority of these methodologies however, lie into two\n",
    "categories, waterfall and agile.\n",
    "\n",
    "The waterfall model splits a project in to steps which need to be followed linearly. Each step of the process depends\n",
    "directly on the previous step. Thus, if a change in plan occurs and an earlier step needs to be repeated, all the\n",
    "following steps need to follow suit. (Petersen, Wohlin and Baca, 2009) Such a model is really time-consuming and by the\n",
    "time the project is complete, the user needs might have changed requiring further work on the project or potentially\n",
    "considering the project a failed one.\n",
    "\n",
    "Agile methodology is a different kind of approach characterized by a set of values which were included in *The\n",
    "Manifesto for Agile Software Development*. The distinguishing factor of agile methodologies is the fact that they take\n",
    "an iterative approach to software development. Tasks are split into increments and each increment undergoes a\n",
    "development phase at a different time from the other increments. This allows for more control over the project and its\n",
    "ability to satisfy continuously changing business needs. Agile approaches are usually called adaptive. This is due to\n",
    "their reliance on a rolling wave approach in which tasks and milestones are identified but the path to achieve them is\n",
    "flexible. This adaptive approach is the reason why the project can still continue normally even if these milestones\n",
    "change. (Larman, 2004)\n",
    "\n",
    "### Criteria for selection of project methodology\n",
    "The following are a number of criteria which would play an important role in selecting the methodology used to create\n",
    "the final web app:\n",
    "\n",
    "1. **Adaptability to change in business needs:** The requirements of the project owner can easily change over time,\n",
    "especially if since the project is in such an early stage and the business owner will have a clear insight into the\n",
    "capabilities and reach of the project as development commences.\n",
    "2. **Minimizing time requirements:** The method used must be the most efficient as the team working project have a tight\n",
    "deadline and must also focus on tasks from other modules in the university.\n",
    "3. **Data science implementation:** Not all methodologies are meant to be used for data science applications. Some\n",
    "are designed for software engineering while other are meant for data science. However, some methodologies are built on\n",
    "values which allows them to be used for both types of projects.\n",
    "4. **Ease of adopting the method:** As the team is made up of students with little to no knowledge of software\n",
    "engineering or data science, the selected method must be easy to learn for beginners.\n",
    "5. **Frequency of feedback:** It is desired to use a method with constant feedback about the functionality of the\n",
    "web app. This will ensure the web app is running as desired and any additional improvements can be suggested during the\n",
    "development phase.\n",
    "6. **Frequent communication with business owner:** It is important that there is constant contact with the business\n",
    "asking for the web app. This will insure the web app is made according to client's wishes and prevent conflict\n",
    "between the two parties.\n",
    "\n",
    "(It is worth noting that the criteria above are not ranked in order of importance)\n",
    "\n",
    "### Shortlist of Methodologies\n",
    "Methodology | Description | Advantages | Disadvantages\n",
    "--- | --- | --- | ---\n",
    "*CRISP-DM* | A model which splits the data science life cycle in 6 phases (CRISP-DM - Data Science Process Alliance, 2021) | <ul><li>Easily Implemented</li><li>Widely used for data science with extensive documentation</li></ul> | <ul><li>Many consider it to be a rigid waterfall</li><li>Requires documentation of each step which wastes time</li></ul>\n",
    "*Scrum* | An agile method in which the project is completed in increments called sprints. Each sprint takes the same amount of time as the other ones (Mihajlović Milićević et al., 2019) | <ul><li>Regular Feedback</li><li>Saves time</li></ul> | <ul><li>Needs experienced team members to implement</li><li>Project disruption can occur by unavailability of one team member</li></ul>\n",
    "*Kanban* | An agile method similar to scrum with the difference being that instead of having sprints, the team constantly pull work from a backlog after having vacancy for more work (Belov, 2020) | <ul><li>Efficient for data science</li><li>Continuous with with regular feedback</li></ul> | <ul><li>Lack of iterations when compared to scrum</li><li>Project is not split in phases or sprints like scrum. This means there are no timeframes which could result in inefficient workflows</li></ul>\n",
    "*TDSP* | A modern more agile data science methodology which helps improve efficiency of a working team. It is very similar to other models such as CRISP-DM (Team Data Science Process (TDSP), 2021) | <ul><li>Agile</li><li>Very modern and recommends use of new methods such as machine learning</li></ul> | <ul><li>Very new which means it is not widely implemented</li><li>Many inconsistencies in documentation</li></ul>\n",
    "\n",
    "### Selected Methodology\n",
    "Based on extensive research and analysis, it has been decided that the team will use a combination of CRISP-DM and\n",
    "Scrum. This section will explain the individual benefits of such methodologies and the benefits of combining them.\n",
    "\n",
    "The reason why the team decided to use CRISP-DM is due to the fact that it follows steps in a logical order. The\n",
    "team deems these steps and their order appropriate for a data science project. Furthermore, the simplicity of the model\n",
    "helps grasp the method easily.\n",
    "\n",
    "Scrum helps organise teams by handing out smaller tasks with assigned deadlines. Regular scrum meetings ensure all the\n",
    "aspects of the problem is regularly discussed and any issues are brought into everyone's attention. Creating smaller\n",
    "pieces of the project allows feedback from the consumers and the product owner which could result in additional work in\n",
    "the backlog. Problems can be identified early on reducing their impact on the overall project.\n",
    "\n",
    "Combining Scrum with CRISP-DM allows the team to use the work ethic and structure modelled by scrum while following\n",
    "CRISP-DM as guide for development. This results in converting CRISP-DM into an agile method which is crucial for data\n",
    "science projects.\n",
    "\n",
    "## Definition of the business need\n",
    "### Problem definition\n",
    "The time taken for a tennis match is not predefined or fixed as opposed to other sports like football. There are many\n",
    "factors which influence the length of match like the quality of the competing players. However, one factor which is\n",
    "often overlooked is the time between a point and the next serve.\n",
    "\n",
    "Different players take different intervals of time before serving. Furthermore, the type of ground the game is played is\n",
    "also hypothesised to affect the serve times in a game. This creates an uncertainty in the tennis match lengths.\n",
    "The governing tennis body is greatly affected by such uncertainties especially when it comes to broadcasting. Games\n",
    "taking longer than planned can cause audiences to abandon the match reducing ratings and revenue. Furthermore, conflicts\n",
    "in broadcasting schedules can occur due to longer match times.\n",
    "\n",
    "By getting a clearer understanding of tennis match serve times, the broadcasters and audiences can be informed of the\n",
    "expected match times beforehand. Furthermore, the window between a point and the next serve can be used as an\n",
    "opportunity to introduce overlay tv ads such as the one shown below. This means the governing tennis body has more room\n",
    "to display advertisements and thus, boost revenues.\n",
    "\n",
    "### Target audience\n",
    "\n",
    "### Questions to be answered using the dataset\n",
    "\n",
    "N | Questions to Answer | Benefits of Answering the Question\n",
    " --- | --- | ---\n",
    "1 | *What is the effect court surface type on match times?* | Estimate the match times for different tournaments. This can help in scheduling matches for broadcasting.\n",
    "2 | *How long does each individual player usually take to serve?* | Study behaviour of different players and penalise players who play **too** slow and kill the pace of the game\n",
    "3 | *What is the estimated match time for potential matchups?* | Provide time estimation of match times for broadcasters and audiences\n",
    "4 | *What is the estimated average interval before a serve when taking into account all the individual factors?* | Calculate the time available to display overlay ads. This time is crucial to boost revenues\n",
    "\n",
    "The answers to all of these questions will be visual. This means that charts and graphs will be used to demonstrate\n",
    "the relationships and statistics. The aim of the project will be to design an interactive web app which will include a\n",
    "search bar. Users can easily find estimated match and serve times based on the searched players, tournaments, playing\n",
    "surface, etc.\n",
    "\n",
    "## Data preparation and exploration\n",
    "### Data preparation\n",
    "This part of the process will focus on cleaning the available data set and dealing with empty cells. This process will\n",
    "use the *pandas* library for data manipulation. First some functions will be defined as they will be used\n",
    "repeatedly during the analysis"
   ],
   "metadata": {
    "collapsed": false,
    "pycharm": {
     "name": "#%% md\n"
    }
   }
  },
  {
   "cell_type": "code",
   "execution_count": 335,
   "outputs": [],
   "source": [
    "import pandas as pd"
   ],
   "metadata": {
    "collapsed": false,
    "pycharm": {
     "name": "#%%\n"
    }
   }
  },
  {
   "cell_type": "code",
   "execution_count": 336,
   "outputs": [],
   "source": [
    "def set_pandas_display_options(df):\n",
    "    \"\"\" Sets the pandas display options based on the shape of the dataframe\n",
    "    :param DataFrame df: the data\n",
    "    \"\"\"\n",
    "    pd.set_option('display.max_rows', df.shape[0] + 1)\n",
    "    pd.set_option('display.max_columns', df.shape[1] + 1)"
   ],
   "metadata": {
    "collapsed": false,
    "pycharm": {
     "name": "#%%\n"
    }
   }
  },
  {
   "cell_type": "markdown",
   "source": [
    "#### First Dataset\n",
    "The data set is inserted into the file and an example of the first 5 rows of data is shown in the output"
   ],
   "metadata": {
    "collapsed": false
   }
  },
  {
   "cell_type": "code",
   "execution_count": 337,
   "outputs": [
    {
     "data": {
      "text/plain": "           player  seconds_added_per_point\n0    Dustin Brown                    -6.37\n1   Rohan Bopanna                    -4.95\n2  Chris Guccione                    -4.63\n3    Benoit Paire                    -4.56\n4    Lukas Dlouhy                    -4.35",
      "text/html": "<div>\n<style scoped>\n    .dataframe tbody tr th:only-of-type {\n        vertical-align: middle;\n    }\n\n    .dataframe tbody tr th {\n        vertical-align: top;\n    }\n\n    .dataframe thead th {\n        text-align: right;\n    }\n</style>\n<table border=\"1\" class=\"dataframe\">\n  <thead>\n    <tr style=\"text-align: right;\">\n      <th></th>\n      <th>player</th>\n      <th>seconds_added_per_point</th>\n    </tr>\n  </thead>\n  <tbody>\n    <tr>\n      <th>0</th>\n      <td>Dustin Brown</td>\n      <td>-6.37</td>\n    </tr>\n    <tr>\n      <th>1</th>\n      <td>Rohan Bopanna</td>\n      <td>-4.95</td>\n    </tr>\n    <tr>\n      <th>2</th>\n      <td>Chris Guccione</td>\n      <td>-4.63</td>\n    </tr>\n    <tr>\n      <th>3</th>\n      <td>Benoit Paire</td>\n      <td>-4.56</td>\n    </tr>\n    <tr>\n      <th>4</th>\n      <td>Lukas Dlouhy</td>\n      <td>-4.35</td>\n    </tr>\n  </tbody>\n</table>\n</div>"
     },
     "execution_count": 337,
     "metadata": {},
     "output_type": "execute_result"
    }
   ],
   "source": [
    "df_playerstime = pd.read_csv('data/players_time.csv')\n",
    "set_pandas_display_options(df_playerstime)\n",
    "df_playerstime.head(5)"
   ],
   "metadata": {
    "collapsed": false,
    "pycharm": {
     "name": "#%%\n"
    }
   }
  },
  {
   "cell_type": "markdown",
   "source": [
    "<br>\n",
    "Data about the created data frame can be seen below. It tells a lot about our data set. It shows the number of records\n",
    "stored in the data frame, the type of data, and how many of the cells are missing any data input."
   ],
   "metadata": {
    "collapsed": false
   }
  },
  {
   "cell_type": "code",
   "execution_count": 338,
   "outputs": [
    {
     "name": "stdout",
     "output_type": "stream",
     "text": [
      "<class 'pandas.core.frame.DataFrame'>\n",
      "RangeIndex: 218 entries, 0 to 217\n",
      "Data columns (total 2 columns):\n",
      " #   Column                   Non-Null Count  Dtype  \n",
      "---  ------                   --------------  -----  \n",
      " 0   player                   218 non-null    object \n",
      " 1   seconds_added_per_point  218 non-null    float64\n",
      "dtypes: float64(1), object(1)\n",
      "memory usage: 3.5+ KB\n"
     ]
    }
   ],
   "source": [
    "df_playerstime.info(verbose=True)"
   ],
   "metadata": {
    "collapsed": false,
    "pycharm": {
     "name": "#%%\n"
    }
   }
  },
  {
   "cell_type": "markdown",
   "source": [
    "<br>\n",
    "Now, the number of unique data is shown below. It is expected that a single player only has a single reading"
   ],
   "metadata": {
    "collapsed": false
   }
  },
  {
   "cell_type": "code",
   "execution_count": 339,
   "outputs": [
    {
     "data": {
      "text/plain": "218"
     },
     "execution_count": 339,
     "metadata": {},
     "output_type": "execute_result"
    }
   ],
   "source": [
    "len(df_playerstime['player'].unique())"
   ],
   "metadata": {
    "collapsed": false,
    "pycharm": {
     "name": "#%%\n"
    }
   }
  },
  {
   "cell_type": "markdown",
   "source": [
    "The analysis of the first data set showed that the file is already cleaned and requires no additional preparation\n",
    "\n",
    "#### Second Dataset"
   ],
   "metadata": {
    "collapsed": false,
    "pycharm": {
     "name": "#%% md\n"
    }
   }
  },
  {
   "cell_type": "code",
   "execution_count": 340,
   "outputs": [
    {
     "data": {
      "text/plain": "            server  seconds_before_next_point        day      opponent  \\\n0  Nicolas Almagro                         22  28-May-15  Rafael Nadal   \n1  Nicolas Almagro                         19  28-May-15  Rafael Nadal   \n2  Nicolas Almagro                         23  28-May-15  Rafael Nadal   \n3  Nicolas Almagro                         24  28-May-15  Rafael Nadal   \n4  Nicolas Almagro                         19  28-May-15  Rafael Nadal   \n\n  game_score  set game  \n0      15-30    1  0-0  \n1      15-40    1  0-0  \n2      30-40    1  0-0  \n3      Deuce    1  0-0  \n4      Ad-in    1  0-0  ",
      "text/html": "<div>\n<style scoped>\n    .dataframe tbody tr th:only-of-type {\n        vertical-align: middle;\n    }\n\n    .dataframe tbody tr th {\n        vertical-align: top;\n    }\n\n    .dataframe thead th {\n        text-align: right;\n    }\n</style>\n<table border=\"1\" class=\"dataframe\">\n  <thead>\n    <tr style=\"text-align: right;\">\n      <th></th>\n      <th>server</th>\n      <th>seconds_before_next_point</th>\n      <th>day</th>\n      <th>opponent</th>\n      <th>game_score</th>\n      <th>set</th>\n      <th>game</th>\n    </tr>\n  </thead>\n  <tbody>\n    <tr>\n      <th>0</th>\n      <td>Nicolas Almagro</td>\n      <td>22</td>\n      <td>28-May-15</td>\n      <td>Rafael Nadal</td>\n      <td>15-30</td>\n      <td>1</td>\n      <td>0-0</td>\n    </tr>\n    <tr>\n      <th>1</th>\n      <td>Nicolas Almagro</td>\n      <td>19</td>\n      <td>28-May-15</td>\n      <td>Rafael Nadal</td>\n      <td>15-40</td>\n      <td>1</td>\n      <td>0-0</td>\n    </tr>\n    <tr>\n      <th>2</th>\n      <td>Nicolas Almagro</td>\n      <td>23</td>\n      <td>28-May-15</td>\n      <td>Rafael Nadal</td>\n      <td>30-40</td>\n      <td>1</td>\n      <td>0-0</td>\n    </tr>\n    <tr>\n      <th>3</th>\n      <td>Nicolas Almagro</td>\n      <td>24</td>\n      <td>28-May-15</td>\n      <td>Rafael Nadal</td>\n      <td>Deuce</td>\n      <td>1</td>\n      <td>0-0</td>\n    </tr>\n    <tr>\n      <th>4</th>\n      <td>Nicolas Almagro</td>\n      <td>19</td>\n      <td>28-May-15</td>\n      <td>Rafael Nadal</td>\n      <td>Ad-in</td>\n      <td>1</td>\n      <td>0-0</td>\n    </tr>\n  </tbody>\n</table>\n</div>"
     },
     "execution_count": 340,
     "metadata": {},
     "output_type": "execute_result"
    }
   ],
   "source": [
    "df_servetimes = pd.read_csv('data/serve_times.csv')\n",
    "set_pandas_display_options(df_servetimes)\n",
    "df_servetimes.head(5)"
   ],
   "metadata": {
    "collapsed": false,
    "pycharm": {
     "name": "#%%\n"
    }
   }
  },
  {
   "cell_type": "markdown",
   "source": [
    "<br>\n",
    "Information on data set"
   ],
   "metadata": {
    "collapsed": false
   }
  },
  {
   "cell_type": "code",
   "execution_count": 341,
   "outputs": [
    {
     "name": "stdout",
     "output_type": "stream",
     "text": [
      "<class 'pandas.core.frame.DataFrame'>\n",
      "RangeIndex: 120 entries, 0 to 119\n",
      "Data columns (total 7 columns):\n",
      " #   Column                     Non-Null Count  Dtype \n",
      "---  ------                     --------------  ----- \n",
      " 0   server                     120 non-null    object\n",
      " 1   seconds_before_next_point  120 non-null    int64 \n",
      " 2   day                        120 non-null    object\n",
      " 3   opponent                   120 non-null    object\n",
      " 4   game_score                 120 non-null    object\n",
      " 5   set                        120 non-null    int64 \n",
      " 6   game                       120 non-null    object\n",
      "dtypes: int64(2), object(5)\n",
      "memory usage: 6.7+ KB\n"
     ]
    }
   ],
   "source": [
    "df_servetimes.info(verbose=True)\n"
   ],
   "metadata": {
    "collapsed": false,
    "pycharm": {
     "name": "#%%\n"
    }
   }
  },
  {
   "cell_type": "markdown",
   "source": [
    "<br>\n",
    "Based on the previous line of code, the data frame contains the date, game score, and set number at the time of\n",
    "taking the reading. These are all irrelevant to the final aim if the project. Thus, these columns need to be omitted."
   ],
   "metadata": {
    "collapsed": false
   }
  },
  {
   "cell_type": "code",
   "execution_count": 342,
   "outputs": [
    {
     "data": {
      "text/plain": "Index(['server', 'seconds_before_next_point', 'opponent', 'game'], dtype='object')"
     },
     "execution_count": 342,
     "metadata": {},
     "output_type": "execute_result"
    }
   ],
   "source": [
    "df_servetimes.drop(['day','game_score','set'], axis = 1, inplace = True)\n",
    "df_servetimes.columns"
   ],
   "metadata": {
    "collapsed": false,
    "pycharm": {
     "name": "#%%\n"
    }
   }
  },
  {
   "cell_type": "markdown",
   "source": [
    "<br>\n",
    "Data from the first data set and the second dataset will be merged together. After that, the extra column will be\n",
    "deleted."
   ],
   "metadata": {
    "collapsed": false,
    "pycharm": {
     "name": "#%% md\n"
    }
   }
  },
  {
   "cell_type": "code",
   "execution_count": 343,
   "outputs": [
    {
     "data": {
      "text/plain": "            server  seconds_before_next_point      opponent game  \\\n0  Nicolas Almagro                         22  Rafael Nadal  0-0   \n1  Nicolas Almagro                         19  Rafael Nadal  0-0   \n2  Nicolas Almagro                         23  Rafael Nadal  0-0   \n3  Nicolas Almagro                         24  Rafael Nadal  0-0   \n4  Nicolas Almagro                         19  Rafael Nadal  0-0   \n\n            player  seconds_added_per_point  \n0  Nicolas Almagro                    -2.01  \n1  Nicolas Almagro                    -2.01  \n2  Nicolas Almagro                    -2.01  \n3  Nicolas Almagro                    -2.01  \n4  Nicolas Almagro                    -2.01  ",
      "text/html": "<div>\n<style scoped>\n    .dataframe tbody tr th:only-of-type {\n        vertical-align: middle;\n    }\n\n    .dataframe tbody tr th {\n        vertical-align: top;\n    }\n\n    .dataframe thead th {\n        text-align: right;\n    }\n</style>\n<table border=\"1\" class=\"dataframe\">\n  <thead>\n    <tr style=\"text-align: right;\">\n      <th></th>\n      <th>server</th>\n      <th>seconds_before_next_point</th>\n      <th>opponent</th>\n      <th>game</th>\n      <th>player</th>\n      <th>seconds_added_per_point</th>\n    </tr>\n  </thead>\n  <tbody>\n    <tr>\n      <th>0</th>\n      <td>Nicolas Almagro</td>\n      <td>22</td>\n      <td>Rafael Nadal</td>\n      <td>0-0</td>\n      <td>Nicolas Almagro</td>\n      <td>-2.01</td>\n    </tr>\n    <tr>\n      <th>1</th>\n      <td>Nicolas Almagro</td>\n      <td>19</td>\n      <td>Rafael Nadal</td>\n      <td>0-0</td>\n      <td>Nicolas Almagro</td>\n      <td>-2.01</td>\n    </tr>\n    <tr>\n      <th>2</th>\n      <td>Nicolas Almagro</td>\n      <td>23</td>\n      <td>Rafael Nadal</td>\n      <td>0-0</td>\n      <td>Nicolas Almagro</td>\n      <td>-2.01</td>\n    </tr>\n    <tr>\n      <th>3</th>\n      <td>Nicolas Almagro</td>\n      <td>24</td>\n      <td>Rafael Nadal</td>\n      <td>0-0</td>\n      <td>Nicolas Almagro</td>\n      <td>-2.01</td>\n    </tr>\n    <tr>\n      <th>4</th>\n      <td>Nicolas Almagro</td>\n      <td>19</td>\n      <td>Rafael Nadal</td>\n      <td>0-0</td>\n      <td>Nicolas Almagro</td>\n      <td>-2.01</td>\n    </tr>\n  </tbody>\n</table>\n</div>"
     },
     "execution_count": 343,
     "metadata": {},
     "output_type": "execute_result"
    }
   ],
   "source": [
    "df_merged=df_servetimes.merge(df_playerstime, how='left', left_on='server', right_on='player')\n",
    "df_merged.head(5)"
   ],
   "metadata": {
    "collapsed": false,
    "pycharm": {
     "name": "#%%\n"
    }
   }
  },
  {
   "cell_type": "code",
   "source": [
    "df_merged.drop(['player'], axis=1, inplace=True)\n",
    "df_merged.head(5)"
   ],
   "metadata": {
    "collapsed": false,
    "pycharm": {
     "name": "#%%\n"
    }
   },
   "execution_count": 344,
   "outputs": [
    {
     "data": {
      "text/plain": "            server  seconds_before_next_point      opponent game  \\\n0  Nicolas Almagro                         22  Rafael Nadal  0-0   \n1  Nicolas Almagro                         19  Rafael Nadal  0-0   \n2  Nicolas Almagro                         23  Rafael Nadal  0-0   \n3  Nicolas Almagro                         24  Rafael Nadal  0-0   \n4  Nicolas Almagro                         19  Rafael Nadal  0-0   \n\n   seconds_added_per_point  \n0                    -2.01  \n1                    -2.01  \n2                    -2.01  \n3                    -2.01  \n4                    -2.01  ",
      "text/html": "<div>\n<style scoped>\n    .dataframe tbody tr th:only-of-type {\n        vertical-align: middle;\n    }\n\n    .dataframe tbody tr th {\n        vertical-align: top;\n    }\n\n    .dataframe thead th {\n        text-align: right;\n    }\n</style>\n<table border=\"1\" class=\"dataframe\">\n  <thead>\n    <tr style=\"text-align: right;\">\n      <th></th>\n      <th>server</th>\n      <th>seconds_before_next_point</th>\n      <th>opponent</th>\n      <th>game</th>\n      <th>seconds_added_per_point</th>\n    </tr>\n  </thead>\n  <tbody>\n    <tr>\n      <th>0</th>\n      <td>Nicolas Almagro</td>\n      <td>22</td>\n      <td>Rafael Nadal</td>\n      <td>0-0</td>\n      <td>-2.01</td>\n    </tr>\n    <tr>\n      <th>1</th>\n      <td>Nicolas Almagro</td>\n      <td>19</td>\n      <td>Rafael Nadal</td>\n      <td>0-0</td>\n      <td>-2.01</td>\n    </tr>\n    <tr>\n      <th>2</th>\n      <td>Nicolas Almagro</td>\n      <td>23</td>\n      <td>Rafael Nadal</td>\n      <td>0-0</td>\n      <td>-2.01</td>\n    </tr>\n    <tr>\n      <th>3</th>\n      <td>Nicolas Almagro</td>\n      <td>24</td>\n      <td>Rafael Nadal</td>\n      <td>0-0</td>\n      <td>-2.01</td>\n    </tr>\n    <tr>\n      <th>4</th>\n      <td>Nicolas Almagro</td>\n      <td>19</td>\n      <td>Rafael Nadal</td>\n      <td>0-0</td>\n      <td>-2.01</td>\n    </tr>\n  </tbody>\n</table>\n</div>"
     },
     "execution_count": 344,
     "metadata": {},
     "output_type": "execute_result"
    }
   ]
  },
  {
   "cell_type": "markdown",
   "source": [
    "<br>\n",
    "The new merged data frame is checked for missing data before saving it to a new csv file"
   ],
   "metadata": {
    "collapsed": false,
    "pycharm": {
     "name": "#%% md\n"
    }
   }
  },
  {
   "cell_type": "code",
   "execution_count": 345,
   "outputs": [
    {
     "data": {
      "text/plain": "0"
     },
     "execution_count": 345,
     "metadata": {},
     "output_type": "execute_result"
    }
   ],
   "source": [
    "df_merged.isnull().sum().sum()"
   ],
   "metadata": {
    "collapsed": false,
    "pycharm": {
     "name": "#%%\n"
    }
   }
  },
  {
   "cell_type": "code",
   "execution_count": 346,
   "outputs": [],
   "source": [
    "df_merged.to_csv('data/prep_match_times.csv')"
   ],
   "metadata": {
    "collapsed": false,
    "pycharm": {
     "name": "#%%\n"
    }
   }
  },
  {
   "cell_type": "markdown",
   "source": [
    "#### Third Dataset"
   ],
   "metadata": {
    "collapsed": false,
    "pycharm": {
     "name": "#%% md\n"
    }
   }
  },
  {
   "cell_type": "code",
   "execution_count": 347,
   "outputs": [
    {
     "data": {
      "text/plain": "        tournament surface  seconds_added_per_point      years\n0        Wimbledon   Grass                    -2.98  1991-2014\n1  London Olympics   Grass                    -2.62       2012\n2       Manchester   Grass                    -2.33  1991-1994\n3       Eastbourne   Grass                    -1.78  2009-2014\n4       Birmingham  Carpet                    -1.63       1991",
      "text/html": "<div>\n<style scoped>\n    .dataframe tbody tr th:only-of-type {\n        vertical-align: middle;\n    }\n\n    .dataframe tbody tr th {\n        vertical-align: top;\n    }\n\n    .dataframe thead th {\n        text-align: right;\n    }\n</style>\n<table border=\"1\" class=\"dataframe\">\n  <thead>\n    <tr style=\"text-align: right;\">\n      <th></th>\n      <th>tournament</th>\n      <th>surface</th>\n      <th>seconds_added_per_point</th>\n      <th>years</th>\n    </tr>\n  </thead>\n  <tbody>\n    <tr>\n      <th>0</th>\n      <td>Wimbledon</td>\n      <td>Grass</td>\n      <td>-2.98</td>\n      <td>1991-2014</td>\n    </tr>\n    <tr>\n      <th>1</th>\n      <td>London Olympics</td>\n      <td>Grass</td>\n      <td>-2.62</td>\n      <td>2012</td>\n    </tr>\n    <tr>\n      <th>2</th>\n      <td>Manchester</td>\n      <td>Grass</td>\n      <td>-2.33</td>\n      <td>1991-1994</td>\n    </tr>\n    <tr>\n      <th>3</th>\n      <td>Eastbourne</td>\n      <td>Grass</td>\n      <td>-1.78</td>\n      <td>2009-2014</td>\n    </tr>\n    <tr>\n      <th>4</th>\n      <td>Birmingham</td>\n      <td>Carpet</td>\n      <td>-1.63</td>\n      <td>1991</td>\n    </tr>\n  </tbody>\n</table>\n</div>"
     },
     "execution_count": 347,
     "metadata": {},
     "output_type": "execute_result"
    }
   ],
   "source": [
    "df_eventstime = pd.read_csv('data/events_time.csv')\n",
    "set_pandas_display_options(df_eventstime)\n",
    "df_eventstime.head(5)"
   ],
   "metadata": {
    "collapsed": false,
    "pycharm": {
     "name": "#%%\n"
    }
   }
  },
  {
   "cell_type": "markdown",
   "source": [
    "<br>\n",
    "The years column and tournsment name should bve merged to have a single cell referencing each reading"
   ],
   "metadata": {
    "collapsed": false
   }
  },
  {
   "cell_type": "code",
   "execution_count": 348,
   "outputs": [
    {
     "data": {
      "text/plain": "             tournament surface  seconds_added_per_point      years\n0   1991-2014 Wimbledon   Grass                    -2.98  1991-2014\n1  2012 London Olympics   Grass                    -2.62       2012\n2  1991-1994 Manchester   Grass                    -2.33  1991-1994\n3  2009-2014 Eastbourne   Grass                    -1.78  2009-2014\n4       1991 Birmingham  Carpet                    -1.63       1991",
      "text/html": "<div>\n<style scoped>\n    .dataframe tbody tr th:only-of-type {\n        vertical-align: middle;\n    }\n\n    .dataframe tbody tr th {\n        vertical-align: top;\n    }\n\n    .dataframe thead th {\n        text-align: right;\n    }\n</style>\n<table border=\"1\" class=\"dataframe\">\n  <thead>\n    <tr style=\"text-align: right;\">\n      <th></th>\n      <th>tournament</th>\n      <th>surface</th>\n      <th>seconds_added_per_point</th>\n      <th>years</th>\n    </tr>\n  </thead>\n  <tbody>\n    <tr>\n      <th>0</th>\n      <td>1991-2014 Wimbledon</td>\n      <td>Grass</td>\n      <td>-2.98</td>\n      <td>1991-2014</td>\n    </tr>\n    <tr>\n      <th>1</th>\n      <td>2012 London Olympics</td>\n      <td>Grass</td>\n      <td>-2.62</td>\n      <td>2012</td>\n    </tr>\n    <tr>\n      <th>2</th>\n      <td>1991-1994 Manchester</td>\n      <td>Grass</td>\n      <td>-2.33</td>\n      <td>1991-1994</td>\n    </tr>\n    <tr>\n      <th>3</th>\n      <td>2009-2014 Eastbourne</td>\n      <td>Grass</td>\n      <td>-1.78</td>\n      <td>2009-2014</td>\n    </tr>\n    <tr>\n      <th>4</th>\n      <td>1991 Birmingham</td>\n      <td>Carpet</td>\n      <td>-1.63</td>\n      <td>1991</td>\n    </tr>\n  </tbody>\n</table>\n</div>"
     },
     "execution_count": 348,
     "metadata": {},
     "output_type": "execute_result"
    }
   ],
   "source": [
    "df_eventstime['tournament'] = df_eventstime['years'] + ' ' + df_eventstime['tournament']\n",
    "df_eventstime.head(5)"
   ],
   "metadata": {
    "collapsed": false,
    "pycharm": {
     "name": "#%%\n"
    }
   }
  },
  {
   "cell_type": "markdown",
   "source": [
    "<br>\n",
    "\n",
    "Now, the *years* column will be dropped"
   ],
   "metadata": {
    "collapsed": false,
    "pycharm": {
     "name": "#%% md\n"
    }
   }
  },
  {
   "cell_type": "code",
   "execution_count": 349,
   "outputs": [
    {
     "data": {
      "text/plain": "             tournament surface  seconds_added_per_point\n0   1991-2014 Wimbledon   Grass                    -2.98\n1  2012 London Olympics   Grass                    -2.62\n2  1991-1994 Manchester   Grass                    -2.33\n3  2009-2014 Eastbourne   Grass                    -1.78\n4       1991 Birmingham  Carpet                    -1.63",
      "text/html": "<div>\n<style scoped>\n    .dataframe tbody tr th:only-of-type {\n        vertical-align: middle;\n    }\n\n    .dataframe tbody tr th {\n        vertical-align: top;\n    }\n\n    .dataframe thead th {\n        text-align: right;\n    }\n</style>\n<table border=\"1\" class=\"dataframe\">\n  <thead>\n    <tr style=\"text-align: right;\">\n      <th></th>\n      <th>tournament</th>\n      <th>surface</th>\n      <th>seconds_added_per_point</th>\n    </tr>\n  </thead>\n  <tbody>\n    <tr>\n      <th>0</th>\n      <td>1991-2014 Wimbledon</td>\n      <td>Grass</td>\n      <td>-2.98</td>\n    </tr>\n    <tr>\n      <th>1</th>\n      <td>2012 London Olympics</td>\n      <td>Grass</td>\n      <td>-2.62</td>\n    </tr>\n    <tr>\n      <th>2</th>\n      <td>1991-1994 Manchester</td>\n      <td>Grass</td>\n      <td>-2.33</td>\n    </tr>\n    <tr>\n      <th>3</th>\n      <td>2009-2014 Eastbourne</td>\n      <td>Grass</td>\n      <td>-1.78</td>\n    </tr>\n    <tr>\n      <th>4</th>\n      <td>1991 Birmingham</td>\n      <td>Carpet</td>\n      <td>-1.63</td>\n    </tr>\n  </tbody>\n</table>\n</div>"
     },
     "execution_count": 349,
     "metadata": {},
     "output_type": "execute_result"
    }
   ],
   "source": [
    "df_eventstime.drop(df_eventstime.columns[3], axis = 1, inplace=True)\n",
    "df_eventstime.head(5)"
   ],
   "metadata": {
    "collapsed": false,
    "pycharm": {
     "name": "#%%\n"
    }
   }
  },
  {
   "cell_type": "markdown",
   "source": [
    "<br>\n",
    "It is time to check the type of data in this data frame and wheher there are blanks or repaeted data"
   ],
   "metadata": {
    "collapsed": false,
    "pycharm": {
     "name": "#%% md\n"
    }
   }
  },
  {
   "cell_type": "code",
   "source": [
    "df_eventstime.info(verbose=True)"
   ],
   "metadata": {
    "collapsed": false,
    "pycharm": {
     "name": "#%%\n"
    }
   },
   "execution_count": 350,
   "outputs": [
    {
     "name": "stdout",
     "output_type": "stream",
     "text": [
      "<class 'pandas.core.frame.DataFrame'>\n",
      "RangeIndex: 205 entries, 0 to 204\n",
      "Data columns (total 3 columns):\n",
      " #   Column                   Non-Null Count  Dtype  \n",
      "---  ------                   --------------  -----  \n",
      " 0   tournament               205 non-null    object \n",
      " 1   surface                  205 non-null    object \n",
      " 2   seconds_added_per_point  205 non-null    float64\n",
      "dtypes: float64(1), object(2)\n",
      "memory usage: 4.9+ KB\n"
     ]
    }
   ]
  },
  {
   "cell_type": "code",
   "execution_count": 351,
   "outputs": [
    {
     "data": {
      "text/plain": "205"
     },
     "execution_count": 351,
     "metadata": {},
     "output_type": "execute_result"
    }
   ],
   "source": [
    "len(df_eventstime['tournament'].unique())"
   ],
   "metadata": {
    "collapsed": false,
    "pycharm": {
     "name": "#%%\n"
    }
   }
  },
  {
   "cell_type": "markdown",
   "source": [
    "<br>\n",
    "The new dataset is now saved into a new .csv file"
   ],
   "metadata": {
    "collapsed": false,
    "pycharm": {
     "name": "#%% md\n"
    }
   }
  },
  {
   "cell_type": "code",
   "execution_count": 352,
   "outputs": [],
   "source": [
    "df_eventstime.to_csv('data/prep_events_time.csv')"
   ],
   "metadata": {
    "collapsed": false,
    "pycharm": {
     "name": "#%%\n"
    }
   }
  },
  {
   "cell_type": "markdown",
   "source": [
    "### Data exploration"
   ],
   "metadata": {
    "collapsed": false,
    "pycharm": {
     "name": "#%% md\n"
    }
   }
  },
  {
   "cell_type": "code",
   "execution_count": 353,
   "outputs": [],
   "source": [
    "import matplotlib.pyplot as plt\n",
    "import numpy as np"
   ],
   "metadata": {
    "collapsed": false,
    "pycharm": {
     "name": "#%%\n"
    }
   }
  },
  {
   "cell_type": "markdown",
   "source": [
    "<br>\n",
    "Now, it is time to figure out if there are any outliers with our dataset"
   ],
   "metadata": {
    "collapsed": false,
    "pycharm": {
     "name": "#%% md\n"
    }
   }
  },
  {
   "cell_type": "code",
   "execution_count": 354,
   "outputs": [
    {
     "data": {
      "text/plain": "<Figure size 432x288 with 1 Axes>",
      "image/png": "[encoded data removed]"
     },
     "metadata": {
      "needs_background": "light"
     },
     "output_type": "display_data"
    }
   ],
   "source": [
    "surface = df_eventstime['surface'].unique()\n",
    "Grass = df_eventstime[df_eventstime['surface']=='Grass']['seconds_added_per_point']\n",
    "Carpet = df_eventstime[df_eventstime['surface']=='Carpet']['seconds_added_per_point']\n",
    "Hard = df_eventstime[df_eventstime['surface']=='Hard']['seconds_added_per_point']\n",
    "Clay = df_eventstime[df_eventstime['surface']=='Clay']['seconds_added_per_point']\n",
    "columns = [Grass, Carpet, Hard, Clay]\n",
    "fig, ax = plt.subplots()\n",
    "ax.boxplot(columns)\n",
    "plt.xticks([1, 2, 3, 4], [\"Grass\", \"Carpet\", \"Hard\", \"Clay\"])\n",
    "plt.show()"
   ],
   "metadata": {
    "collapsed": false,
    "pycharm": {
     "name": "#%%\n"
    }
   }
  },
  {
   "cell_type": "markdown",
   "source": [
    "## Weekly Progress Reports\n",
    "### Week 1\n",
    "List what you completed or made progress on this week (in the coursework project).\n",
    "- chosen extreme programming as the required methodology\n",
    "\n",
    "List what you plan to do next week (for the coursework project):\n",
    "- clean and analyze data\n",
    "- split them into smaller subsets\n",
    "- identify the requirements and the client\n",
    "\n",
    "Briefly describe any issues that are impeding your progress (in the coursework project).\n",
    "- none\n",
    "\n",
    "### Week 2\n",
    "List what you completed or made progress on this week (in the coursework project).\n",
    "- Research on the methodology and figured out a way how to build my report\n",
    "- Identified stakeholders as tv broadcasters, players, audience.....\n",
    "- Gave priorities to specific stakeholders\n",
    "\n",
    "List what you plan to do next week (for the coursework project):\n",
    "-Read on the ethics of data science\n",
    "\n",
    "Briefly describe any issues that are impeding your progress (in the coursework project).\n",
    "- N/A\n",
    "\n",
    "### Week 3\n",
    "List what you completed or made progress on this week (in the coursework project).\n",
    "- Watched the videos on ethics of data science and starting cleaning data on based in business requirements\n",
    "\n",
    "List what you plan to do next week (for the coursework project):\n",
    "- Watch the required videos and prepare data and to prepare formatting the final document\n",
    "\n",
    "\n",
    "Briefly describe any issues that are impeding your progress (in the coursework project).\n",
    "- N/A\n",
    "\n",
    "### Week 4\n",
    "List what you completed or made progress on this week (in the coursework project).\n",
    "- Learned how to explore data based on the task presented in the previous week.\n",
    "\n",
    "- Applied my learning onto my own data set and proceeded to study my data set thoroughly and understand the issues with it\n",
    "\n",
    "List what you plan to do next week (for the coursework project):\n",
    "- Finalize the readme file on GitHub and prepare it for the deadline on 10/11/2021\n",
    "\n",
    "\n",
    "Briefly describe any issues that are impeding your progress (in the coursework project).\n",
    "- N/A\n",
    "\n",
    "## References\n",
    "- Belov, A., 2020. Scrum vs Kanban — which is better for a DS project?. [online] Medium. Available at: <https://medium.com/@alexey.belov/scrum-vs-kanban-which-is-better-for-a-ds-project-f58497675926> [Accessed 9 November 2021].\n",
    "\n",
    "- Data Science Process Alliance. 2021. CRISP-DM - Data Science Process Alliance. [online] Available at: <https://www.datascience-pm.com/crisp-dm-2/> [Accessed 9 November 2021].\n",
    "\n",
    "- Data Science Process Alliance. 2021. Team Data Science Process (TDSP). [online] Available at: <https://www.datascience-pm.com/tdsp/> [Accessed 9 November 2021].\n",
    "\n",
    "- Larman, C., 2004. Agile & Iterative Development. Boston: Addison-Wesley, p.253.\n",
    "\n",
    "- Mihajlović Milićević, J., Filipović, F., Jezdović, I., Naumović, T. and Radenković, M., 2019. Scrum Agile Framework in E-business Project Management: An Approach to Teaching Scrum. European Project Management Journal, 9(1), pp.52-60.\n",
    "\n",
    "- Petersen, K., Wohlin, C. and Baca, D., 2009. The Waterfall Model in Large-Scale Development. Lecture Notes in Business Information Processing, pp.386-400.\n",
    "\n",
    "- Segue Technologies. 2021. The Benefits of Adhering to a Software Development Methodology. [online] Available at: <https://www.seguetech.com/benefits-adhering-software-development-methodology-concepts/#:~:text=Adhering%20to%20a%20properly%2Ddefined,ample%20time%20to%20make%20adjustments.> [Accessed 9 November 2021]."
   ],
   "metadata": {
    "collapsed": false,
    "pycharm": {
     "name": "#%% md\n"
    }
   }
  }
 ],
 "metadata": {
  "kernelspec": {
   "display_name": "Python 3",
   "language": "python",
   "name": "python3"
  },
  "language_info": {
   "codemirror_mode": {
    "name": "ipython",
    "version": 2
   },
   "file_extension": ".py",
   "mimetype": "text/x-python",
   "name": "python",
   "nbconvert_exporter": "python",
   "pygments_lexer": "ipython2",
   "version": "2.7.6"
  }
 },
 "nbformat": 4,
 "nbformat_minor": 0
}