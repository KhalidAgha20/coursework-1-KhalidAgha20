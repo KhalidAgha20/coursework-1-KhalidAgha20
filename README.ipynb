{
 "cells": [
  {
   "cell_type": "markdown",
   "source": [
    "# Coursework 1\n",
    "\n",
    "### Repository URL\n",
    "https://github.com/ucl-comp0035/coursework-1-KhalidAgha20.git\n",
    "\n",
    "### Set-up instructions\n",
    "\n",
    "In addition to the libraries provided in the requirements.txt file, this coursework employs another list of libraries.\n",
    "The list of additional libraries are as follows:\n",
    "\n",
    "1. jupyter\n",
    "\n",
    "All of these additional libraries are added to the requirements.txt file. Thus, no additional steps are required other\n",
    "than installing libraries through the requirements.txt file.\n",
    "\n",
    "## Project Methodology\n",
    "When designing a software, it is crucial to adhere to a certain methodology in order to get the best and most functional\n",
    "end result at the end of the project cycle. Methodologies help organize teams and finish tasks in a timely manner by\n",
    "providing them with a plan. (The Benefits of Adhering to a Software Development Methodology, 2021)\n",
    "\n",
    "Currently, there exists a number of methodologies with manifestos which describe the processes required to currently\n",
    "implement them into a software or data science project. The majority of these methodologies however, lie into two\n",
    "categories, waterfall and agile.\n",
    "\n",
    "The waterfall model splits a project in to steps which need to be followed linearly. Each step of the process depends\n",
    "directly on the previous step. Thus, if a change in plan occurs and an earlier step needs to be repeated, all the\n",
    "following steps need to follow suit. (Petersen, Wohlin and Baca, 2009) Such a model is really time-consuming and by the\n",
    "time the project is complete, the user needs might have changed requiring further work on the project or potentially\n",
    "considering the project a failed one.\n",
    "\n",
    "Agile methodology is a different kind of approach characterized by a set of values which were included in *The\n",
    "Manifesto for Agile Software Development*. The distinguishing factor of agile methodologies is the fact that they take\n",
    "an iterative approach to software development. Tasks are split into increments and each increment undergoes a\n",
    "development phase at a different time from the other increments. This allows for more control over the project and its\n",
    "ability to satisfy continuously changing business needs. Agile approaches are usually called adaptive. This is due to\n",
    "their reliance on a rolling wave approach in which tasks and milestones are identified but the path to achieve them is\n",
    "flexible. This adaptive approach is the reason why the project can still continue normally even if these milestones\n",
    "change. (Larman, 2004)\n",
    "\n",
    "### Criteria for selection of project methodology\n",
    "The following are a number of criteria which would play an important role in selecting the methodology used to create\n",
    "the final web app:\n",
    "\n",
    "1. **Adaptability to change in business needs:** The requirements of the project owner can easily change over time,\n",
    "especially if since the project is in such an early stage and the business owner will have a clear insight into the\n",
    "capabilities and reach of the project as development commences.\n",
    "2. **Minimizing time requirements:** The method used must be the most efficient as the team working project have a tight\n",
    "deadline and must also focus on tasks from other modules in the university.\n",
    "3. **Data science implementation:** Not all methodologies are meant to be used for data science applications. Some\n",
    "are designed for software engineering while other are meant for data science. However, some methodologies are built on\n",
    "values which allows them to be used for both types of projects.\n",
    "4. **Ease of adopting the method:** As the team is made up of students with little to no knowledge of software\n",
    "engineering or data science, the selected method must be easy to learn for beginners.\n",
    "5. **Frequency of feedback:** It is desired to use a method with constant feedback about the functionality of the\n",
    "web app. This will ensure the web app is running as desired and any additional improvements can be suggested during the\n",
    "development phase.\n",
    "6. **Frequent communication with business owner:** It is important that there is constant contact with the business\n",
    "asking for the web app. This will insure the web app is made according to client's wishes and prevent conflict\n",
    "between the two parties.\n",
    "\n",
    "(It is worth noting that the criteria above are not ranked in order of importance)\n",
    "\n",
    "### Methodology (or combination) selected\n",
    "\n",
    "### Selection criteria and justification of selection\n",
    "\n"
   ],
   "metadata": {
    "collapsed": false,
    "pycharm": {
     "name": "#%% md\n"
    }
   }
  }
 ],
 "metadata": {
  "kernelspec": {
   "display_name": "Python 3",
   "language": "python",
   "name": "python3"
  },
  "language_info": {
   "codemirror_mode": {
    "name": "ipython",
    "version": 2
   },
   "file_extension": ".py",
   "mimetype": "text/x-python",
   "name": "python",
   "nbconvert_exporter": "python",
   "pygments_lexer": "ipython2",
   "version": "2.7.6"
  }
 },
 "nbformat": 4,
 "nbformat_minor": 0
}