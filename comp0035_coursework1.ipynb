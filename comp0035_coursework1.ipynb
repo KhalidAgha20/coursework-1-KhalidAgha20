{
 "cells": [
  {
   "cell_type": "markdown",
   "source": [
    "# Coursework 1\n",
    "\n",
    "### Repository URL\n",
    "https://github.com/ucl-comp0035/coursework-1-KhalidAgha20.git\n"
   ],
   "metadata": {
    "collapsed": false
   }
  },
  {
   "cell_type": "markdown",
   "source": [
    "## Selection of project methodology\n",
    "### Methodology (or combination) selected\n",
    "\n",
    "### Selection criteria and justification of selection\n",
    "\n"
   ],
   "metadata": {
    "collapsed": false
   }
  }
 ],
 "metadata": {
  "kernelspec": {
   "display_name": "Python 3",
   "language": "python",
   "name": "python3"
  },
  "language_info": {
   "codemirror_mode": {
    "name": "ipython",
    "version": 2
   },
   "file_extension": ".py",
   "mimetype": "text/x-python",
   "name": "python",
   "nbconvert_exporter": "python",
   "pygments_lexer": "ipython2",
   "version": "2.7.6"
  }
 },
 "nbformat": 4,
 "nbformat_minor": 0
}