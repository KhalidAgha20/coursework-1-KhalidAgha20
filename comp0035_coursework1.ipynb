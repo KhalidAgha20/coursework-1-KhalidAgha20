{
 "cells": [
  {
   "cell_type": "markdown",
   "source": [
    "# Coursework 1\n",
    "\n",
    "### Repository URL\n",
    "https://github.com/ucl-comp0035/coursework-1-KhalidAgha20.git\n",
    "\n",
    "### Set-up instructions\n",
    "\n",
    "In addition to the libraries provided in the requirements.txt file, this coursework employs another list of libraries.\n",
    "The list of additional libraries are as follows:\n",
    "\n",
    "1. jupyter\n",
    "\n",
    "All of these additional libraries are added to the requirements.txt file. Thus, no additional steps are required other\n",
    "than installing libraries through the requirements file.\n",
    "\n",
    "## Selection of project methodology\n",
    "### Methodology (or combination) selected\n",
    "\n",
    "### Selection criteria and justification of selection\n",
    "\n"
   ],
   "metadata": {
    "collapsed": false,
    "pycharm": {
     "name": "#%% md\n"
    }
   }
  }
 ],
 "metadata": {
  "kernelspec": {
   "display_name": "Python 3",
   "language": "python",
   "name": "python3"
  },
  "language_info": {
   "codemirror_mode": {
    "name": "ipython",
    "version": 2
   },
   "file_extension": ".py",
   "mimetype": "text/x-python",
   "name": "python",
   "nbconvert_exporter": "python",
   "pygments_lexer": "ipython2",
   "version": "2.7.6"
  }
 },
 "nbformat": 4,
 "nbformat_minor": 0
}