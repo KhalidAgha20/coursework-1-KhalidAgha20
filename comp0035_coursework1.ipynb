{
 "cells": [
  {
   "cell_type": "markdown",
   "source": [
    "# Coursework 1\n",
    "\n",
    "### Repository URL\n",
    "https://github.com/ucl-comp0035/coursework-1-KhalidAgha20.git\n",
    "\n",
    "## Selection of project methodology\n",
    "### Methodology (or combination) selected\n",
    "\n",
    "### Selection criteria and justification of selection\n",
    "\n",
    "![alt text for screen readers](/20171105_204932.jpg \"Text to show on mouseover\")"
   ],
   "metadata": {
    "collapsed": false,
    "pycharm": {
     "name": "#%% md\n"
    }
   }
  }
 ],
 "metadata": {
  "kernelspec": {
   "display_name": "Python 3",
   "language": "python",
   "name": "python3"
  },
  "language_info": {
   "codemirror_mode": {
    "name": "ipython",
    "version": 2
   },
   "file_extension": ".py",
   "mimetype": "text/x-python",
   "name": "python",
   "nbconvert_exporter": "python",
   "pygments_lexer": "ipython2",
   "version": "2.7.6"
  }
 },
 "nbformat": 4,
 "nbformat_minor": 0
}